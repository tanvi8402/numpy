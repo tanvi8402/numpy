{
 "cells": [
  {
   "cell_type": "markdown",
   "metadata": {},
   "source": [
    "# NumPy Exercises \n",
    "\n",
    "Now that we've learned about NumPy let's test your knowledge. We'll start off with a few simple tasks, and then you'll be asked some more complicated questions."
   ]
  },
  {
   "cell_type": "markdown",
   "metadata": {},
   "source": [
    "#### Import NumPy as np"
   ]
  },
  {
   "cell_type": "code",
   "execution_count": 2,
   "metadata": {},
   "outputs": [],
   "source": [
    "import numpy as np"
   ]
  },
  {
   "cell_type": "markdown",
   "metadata": {},
   "source": [
    "#### Create an array of 10 zeros "
   ]
  },
  {
   "cell_type": "code",
   "execution_count": 3,
   "metadata": {},
   "outputs": [
    {
     "data": {
      "text/plain": [
       "array([0., 0., 0., 0., 0., 0., 0., 0., 0., 0.])"
      ]
     },
     "execution_count": 3,
     "metadata": {},
     "output_type": "execute_result"
    }
   ],
   "source": [
    "np.zeros(10)"
   ]
  },
  {
   "cell_type": "markdown",
   "metadata": {},
   "source": [
    "#### Create an array of 10 fives"
   ]
  },
  {
   "cell_type": "code",
   "execution_count": 4,
   "metadata": {},
   "outputs": [
    {
     "data": {
      "text/plain": [
       "array([5., 5., 5., 5., 5., 5., 5., 5., 5., 5.])"
      ]
     },
     "execution_count": 4,
     "metadata": {},
     "output_type": "execute_result"
    }
   ],
   "source": [
    "np.ones(10)*5"
   ]
  },
  {
   "cell_type": "markdown",
   "metadata": {},
   "source": [
    "#### Create an array of the integers from 10 to 50"
   ]
  },
  {
   "cell_type": "code",
   "execution_count": 5,
   "metadata": {},
   "outputs": [],
   "source": [
    "import numpy as np"
   ]
  },
  {
   "cell_type": "code",
   "execution_count": 6,
   "metadata": {},
   "outputs": [
    {
     "data": {
      "text/plain": [
       "array([10, 11, 12, 13, 14, 15, 16, 17, 18, 19, 20, 21, 22, 23, 24, 25, 26,\n",
       "       27, 28, 29, 30, 31, 32, 33, 34, 35, 36, 37, 38, 39, 40, 41, 42, 43,\n",
       "       44, 45, 46, 47, 48, 49, 50])"
      ]
     },
     "execution_count": 6,
     "metadata": {},
     "output_type": "execute_result"
    }
   ],
   "source": [
    "a1=np.arange(10,51)\n",
    "a1"
   ]
  },
  {
   "cell_type": "markdown",
   "metadata": {},
   "source": [
    "#### Create an array of all the even integers from 10 to 50"
   ]
  },
  {
   "cell_type": "code",
   "execution_count": 7,
   "metadata": {},
   "outputs": [
    {
     "data": {
      "text/plain": [
       "array([10, 12, 14, 16, 18, 20, 22, 24, 26, 28, 30, 32, 34, 36, 38, 40, 42,\n",
       "       44, 46, 48, 50])"
      ]
     },
     "execution_count": 7,
     "metadata": {},
     "output_type": "execute_result"
    }
   ],
   "source": [
    "a2=np.arange(10,51,2)\n",
    "a2"
   ]
  },
  {
   "cell_type": "markdown",
   "metadata": {},
   "source": [
    "#### Create a 3x3 matrix with values ranging from 0 to 8"
   ]
  },
  {
   "cell_type": "code",
   "execution_count": 8,
   "metadata": {},
   "outputs": [
    {
     "data": {
      "text/plain": [
       "array([[0, 1, 2],\n",
       "       [3, 4, 5],\n",
       "       [6, 7, 8]])"
      ]
     },
     "execution_count": 8,
     "metadata": {},
     "output_type": "execute_result"
    }
   ],
   "source": [
    "m=np.array([[0,1,2],[3,4,5],[6,7,8]])\n",
    "m"
   ]
  },
  {
   "cell_type": "markdown",
   "metadata": {},
   "source": [
    "#### Create a 3x3 identity matrix"
   ]
  },
  {
   "cell_type": "code",
   "execution_count": 9,
   "metadata": {},
   "outputs": [
    {
     "data": {
      "text/plain": [
       "array([[1., 0., 0.],\n",
       "       [0., 1., 0.],\n",
       "       [0., 0., 1.]])"
      ]
     },
     "execution_count": 9,
     "metadata": {},
     "output_type": "execute_result"
    }
   ],
   "source": [
    "np.eye(3)"
   ]
  },
  {
   "cell_type": "markdown",
   "metadata": {},
   "source": [
    "#### Use NumPy to generate a random number between 0 and 1 using seed 10"
   ]
  },
  {
   "cell_type": "code",
   "execution_count": 10,
   "metadata": {},
   "outputs": [
    {
     "data": {
      "text/plain": [
       "0.771320643266746"
      ]
     },
     "execution_count": 10,
     "metadata": {},
     "output_type": "execute_result"
    }
   ],
   "source": [
    "np.random.seed(10)\n",
    "a4=np.random.uniform(0,1)\n",
    "a4"
   ]
  },
  {
   "cell_type": "markdown",
   "metadata": {},
   "source": [
    "#### Use NumPy to generate an array of 25 random numbers sampled from a standard normal distribution using seed 1"
   ]
  },
  {
   "cell_type": "code",
   "execution_count": 11,
   "metadata": {},
   "outputs": [
    {
     "data": {
      "text/plain": [
       "array([ 1.76405235,  0.40015721,  0.97873798,  2.2408932 ,  1.86755799,\n",
       "       -0.97727788,  0.95008842, -0.15135721, -0.10321885,  0.4105985 ,\n",
       "        0.14404357,  1.45427351,  0.76103773,  0.12167502,  0.44386323,\n",
       "        0.33367433,  1.49407907, -0.20515826,  0.3130677 , -0.85409574,\n",
       "       -2.55298982,  0.6536186 ,  0.8644362 , -0.74216502,  2.26975462])"
      ]
     },
     "execution_count": 11,
     "metadata": {},
     "output_type": "execute_result"
    }
   ],
   "source": [
    "np.random.seed(0)\n",
    "a5=np.random.normal(0,1,25)\n",
    "a5"
   ]
  },
  {
   "cell_type": "markdown",
   "metadata": {},
   "source": [
    "#### Create the following matrix from 25 random numbers using seed 0:"
   ]
  },
  {
   "cell_type": "code",
   "execution_count": 12,
   "metadata": {},
   "outputs": [
    {
     "data": {
      "text/plain": [
       "array([[0.5488135 , 0.71518937, 0.60276338, 0.54488318, 0.4236548 ],\n",
       "       [0.64589411, 0.43758721, 0.891773  , 0.96366276, 0.38344152],\n",
       "       [0.79172504, 0.52889492, 0.56804456, 0.92559664, 0.07103606],\n",
       "       [0.0871293 , 0.0202184 , 0.83261985, 0.77815675, 0.87001215],\n",
       "       [0.97861834, 0.79915856, 0.46147936, 0.78052918, 0.11827443]])"
      ]
     },
     "execution_count": 12,
     "metadata": {},
     "output_type": "execute_result"
    }
   ],
   "source": [
    "np.random.seed(0)\n",
    "a6=np.random.rand(5,5)\n",
    "a6"
   ]
  },
  {
   "cell_type": "markdown",
   "metadata": {},
   "source": [
    "#### Create an array of 20 linearly spaced points between 0 and 1:"
   ]
  },
  {
   "cell_type": "code",
   "execution_count": 13,
   "metadata": {},
   "outputs": [
    {
     "data": {
      "text/plain": [
       "array([0.        , 0.05263158, 0.10526316, 0.15789474, 0.21052632,\n",
       "       0.26315789, 0.31578947, 0.36842105, 0.42105263, 0.47368421,\n",
       "       0.52631579, 0.57894737, 0.63157895, 0.68421053, 0.73684211,\n",
       "       0.78947368, 0.84210526, 0.89473684, 0.94736842, 1.        ])"
      ]
     },
     "execution_count": 13,
     "metadata": {},
     "output_type": "execute_result"
    }
   ],
   "source": [
    "np.linspace(0,1,20)"
   ]
  },
  {
   "cell_type": "markdown",
   "metadata": {},
   "source": [
    "## Numpy Indexing and Selection\n",
    "\n",
    "Now you will be given a few matrices, and be asked to replicate the resulting matrix outputs:"
   ]
  },
  {
   "cell_type": "markdown",
   "metadata": {},
   "source": [
    "Create this below matrix (mat)?"
   ]
  },
  {
   "cell_type": "code",
   "execution_count": 14,
   "metadata": {},
   "outputs": [
    {
     "data": {
      "text/plain": [
       "array([[ 1,  2,  3,  4,  5],\n",
       "       [ 6,  7,  8,  9, 10],\n",
       "       [11, 12, 13, 14, 15],\n",
       "       [16, 17, 18, 19, 20],\n",
       "       [21, 22, 23, 24, 25]])"
      ]
     },
     "execution_count": 14,
     "metadata": {},
     "output_type": "execute_result"
    }
   ],
   "source": [
    "mat=np.array([[1,2,3,4,5],[6,7,8,9,10],[11,12,13,14,15],[16,17,18,19,20],[21,22,23,24,25]])\n",
    "mat"
   ]
  },
  {
   "cell_type": "markdown",
   "metadata": {
    "collapsed": true
   },
   "source": [
    "Make the below subset from the above matrix called mat?"
   ]
  },
  {
   "cell_type": "code",
   "execution_count": 15,
   "metadata": {},
   "outputs": [
    {
     "data": {
      "text/plain": [
       "array([[12, 13, 14, 15],\n",
       "       [17, 18, 19, 20],\n",
       "       [22, 23, 24, 25]])"
      ]
     },
     "execution_count": 15,
     "metadata": {},
     "output_type": "execute_result"
    }
   ],
   "source": [
    "mat[2:,1:]"
   ]
  },
  {
   "cell_type": "markdown",
   "metadata": {
    "collapsed": true
   },
   "source": [
    "Fetch the element 20 from mat"
   ]
  },
  {
   "cell_type": "code",
   "execution_count": 16,
   "metadata": {},
   "outputs": [
    {
     "data": {
      "text/plain": [
       "20"
      ]
     },
     "execution_count": 16,
     "metadata": {},
     "output_type": "execute_result"
    }
   ],
   "source": [
    "mat[3,4]"
   ]
  },
  {
   "cell_type": "markdown",
   "metadata": {
    "collapsed": true
   },
   "source": [
    "Fetch the below sub-array from mat"
   ]
  },
  {
   "cell_type": "code",
   "execution_count": 52,
   "metadata": {},
   "outputs": [
    {
     "data": {
      "text/plain": [
       "array([[ 2],\n",
       "       [ 7],\n",
       "       [12]])"
      ]
     },
     "execution_count": 52,
     "metadata": {},
     "output_type": "execute_result"
    }
   ],
   "source": [
    "mat[:3,[1]]"
   ]
  },
  {
   "cell_type": "markdown",
   "metadata": {
    "collapsed": true
   },
   "source": [
    "Fetch the below sub-array from mat"
   ]
  },
  {
   "cell_type": "code",
   "execution_count": 18,
   "metadata": {},
   "outputs": [
    {
     "data": {
      "text/plain": [
       "array([[21, 22, 23, 24, 25]])"
      ]
     },
     "execution_count": 18,
     "metadata": {},
     "output_type": "execute_result"
    }
   ],
   "source": [
    "mat[4:,:]"
   ]
  },
  {
   "cell_type": "markdown",
   "metadata": {
    "collapsed": true
   },
   "source": [
    "Fetch the below sub-array from mat"
   ]
  },
  {
   "cell_type": "code",
   "execution_count": 19,
   "metadata": {},
   "outputs": [
    {
     "data": {
      "text/plain": [
       "array([[16, 17, 18, 19, 20],\n",
       "       [21, 22, 23, 24, 25]])"
      ]
     },
     "execution_count": 19,
     "metadata": {},
     "output_type": "execute_result"
    }
   ],
   "source": [
    "mat[3:,:]"
   ]
  },
  {
   "cell_type": "markdown",
   "metadata": {},
   "source": [
    "### Now do the following"
   ]
  },
  {
   "cell_type": "markdown",
   "metadata": {},
   "source": [
    "#### Get the sum of all the values in mat"
   ]
  },
  {
   "cell_type": "code",
   "execution_count": 20,
   "metadata": {},
   "outputs": [
    {
     "data": {
      "text/plain": [
       "325"
      ]
     },
     "execution_count": 20,
     "metadata": {},
     "output_type": "execute_result"
    }
   ],
   "source": [
    "np.sum(mat)"
   ]
  },
  {
   "cell_type": "markdown",
   "metadata": {},
   "source": [
    "#### Get the standard deviation of the values in mat"
   ]
  },
  {
   "cell_type": "code",
   "execution_count": 21,
   "metadata": {},
   "outputs": [
    {
     "data": {
      "text/plain": [
       "7.211102550927978"
      ]
     },
     "execution_count": 21,
     "metadata": {},
     "output_type": "execute_result"
    }
   ],
   "source": [
    "np.std(mat)"
   ]
  },
  {
   "cell_type": "markdown",
   "metadata": {},
   "source": [
    "#### Get the sum of all the columns in mat"
   ]
  },
  {
   "cell_type": "code",
   "execution_count": 22,
   "metadata": {},
   "outputs": [
    {
     "data": {
      "text/plain": [
       "array([55, 60, 65, 70, 75])"
      ]
     },
     "execution_count": 22,
     "metadata": {},
     "output_type": "execute_result"
    }
   ],
   "source": [
    "np.sum(mat,axis=0)"
   ]
  },
  {
   "cell_type": "markdown",
   "metadata": {},
   "source": [
    "Write a function ('Grade') that takes external input of scores/marks in a loop for 6 times. Then it prints \"Grade A\" if marks>80, \"Grade B\" if marks between (60,80), \"Grade C\" if marks between (40,60) and \"Grade D\" for below 40. Then call the function to check the grades for 35,45,65,75 & 85"
   ]
  },
  {
   "cell_type": "code",
   "execution_count": 24,
   "metadata": {
    "scrolled": true
   },
   "outputs": [
    {
     "name": "stdout",
     "output_type": "stream",
     "text": [
      "Enter Marks: 35\n",
      "Grade D\n",
      "Enter Marks: 45\n",
      "Grade C\n",
      "Enter Marks: 75\n",
      "Grade B\n",
      "Enter Marks: 80\n",
      "Grade D\n",
      "Enter Marks: 95\n",
      "Grade A\n",
      "Enter Marks: 100\n",
      "Grade A\n"
     ]
    }
   ],
   "source": [
    "for i in range(6):\n",
    "    grade=int(input(\"Enter Marks: \"))\n",
    "    if grade>80:\n",
    "        print(\"Grade A\")\n",
    "    elif 60<grade<80:\n",
    "        print(\"Grade B\")\n",
    "    elif 40<grade<60:\n",
    "        print(\"Grade C\")\n",
    "    else:\n",
    "        print(\"Grade D\")\n",
    "        "
   ]
  },
  {
   "cell_type": "markdown",
   "metadata": {},
   "source": [
    "Write a function which take simulation number (n) as argument, and do the following:  \n",
    "- generate `n` random numbers from normal distribution with mean 10 and sigma 2. Use `np.random.normal()` method \n",
    "- Calculate sample mean(m) and sample standard deviation(s)\n",
    "- Calculate percentage of values lying within mean+/-sigma, mean+/-2xsigma, mean+/-3xsigma, and outside mean+/-3xsigma\n",
    "- produce the result for n=500,1000,5000,10000  \n",
    "\n",
    "Try to put the above progrm in a user defined function with argument as `n`"
   ]
  },
  {
   "cell_type": "code",
   "execution_count": 33,
   "metadata": {
    "scrolled": true
   },
   "outputs": [
    {
     "data": {
      "text/plain": [
       "array([13.47572651, 11.12974062,  9.70755994, 11.95664555,  7.32913447,\n",
       "        8.07484902,  9.56959865, 11.22683274,  7.39817298, 11.80306006,\n",
       "       10.00574182,  8.13260717, 10.3875766 , 11.38261728, 11.30072769,\n",
       "        7.92392612,  8.52994498, 12.20099802, 13.72786182, 11.21308419,\n",
       "       10.75906985,  9.92285613,  9.85604865,  7.24608584,  8.94288591,\n",
       "        7.137814  , 11.93656564,  9.65493385,  8.09410218, 13.94437966,\n",
       "       12.36622144,  7.80661355, 12.08334548,  9.9764971 ,  9.46330075,\n",
       "       11.60428149,  6.71074195, 10.87543116,  9.13976865, 12.14164874,\n",
       "        6.92826918,  8.35849722,  9.78087294,  6.0060186 ,  8.05168502,\n",
       "        7.32575307,  9.49068339, 10.01222676, 13.19875847,  8.90330199,\n",
       "        8.17241845,  7.82309807, 11.47730532,  9.22873238, 10.67466205,\n",
       "        7.03868359, 12.33951601,  8.55774223,  9.73853657, 10.93848095,\n",
       "        9.14502287, 10.41925186, 11.45605875,  5.64698608, 11.62806048,\n",
       "        7.42137312, 13.477759  , 10.87156013, 11.30972754,  5.84826033,\n",
       "       11.00485139, 11.00966727, 10.69949154, 13.57352739,  8.7773877 ,\n",
       "       10.51275974, 12.27295739,  9.81897555, 11.19995712, 10.29168691,\n",
       "        9.12144551,  9.48243731,  8.49575252, 10.46558302,  8.58299919,\n",
       "       11.64346788, 12.70942734, 10.33719681,  9.95849706, 12.97003579,\n",
       "        9.99557348, 10.88993809,  8.07443091,  7.84402949,  9.17154502,\n",
       "       13.20937389,  9.34365855,  9.88884047, 11.5713171 ,  9.15098745,\n",
       "       11.2505245 , 11.53964742,  9.47205093,  6.10373194,  9.5650878 ,\n",
       "       11.54460599, 11.14580473,  6.59453347, 10.41870251, 10.72760008,\n",
       "        9.43176382, 10.63772556, 10.24861601,  7.88828183, 10.33081368,\n",
       "       10.1435048 ,  7.06512353,  7.54286426, 13.96726043, 10.34010398,\n",
       "       13.35531658, 10.99327438, 11.97570716,  9.34714472,  8.88100817,\n",
       "        8.0730219 ,  8.62068111, 12.29717001,  7.54463197, 11.94569643,\n",
       "        8.82604354,  8.15661864,  9.7984177 , 11.99430572,  8.58173067,\n",
       "        7.81904016, 10.98847379,  7.23082345, 10.97243834,  9.54021755,\n",
       "       10.05058443,  6.54826602,  6.74786386,  8.53365692, 10.31780743,\n",
       "       13.18832502,  9.66974952, 12.58076165,  8.8538161 ,  3.59145788,\n",
       "       10.17368677,  9.89213971,  8.4137555 ,  8.73217671, 11.40427712,\n",
       "        8.86610653,  9.19784875, 12.95520355,  8.60319485, 12.26465096,\n",
       "        8.79270612,  7.35376744, 11.30928731,  8.22955871, 10.94667439,\n",
       "       12.11082467,  7.78457777, 14.77196815,  8.95539795,  7.62204994,\n",
       "       14.31750762, 11.34693623, 10.9595757 ,  9.95245565, 10.26221982,\n",
       "        9.24789836,  9.64831991, 10.5467494 , 11.3589282 ,  8.51638939,\n",
       "       10.49596418,  9.98626896, 11.48802192, 10.31319029,  8.43073266,\n",
       "       13.46450625,  9.49236575, 12.39862937, 11.06608933, 13.43218632,\n",
       "       10.72303129,  8.73906817,  8.69788989, 10.69927531,  6.17118354,\n",
       "       11.44233425,  5.33957376,  7.51716325, 12.70952038,  9.38430691,\n",
       "        9.58961737,  9.3975201 , 11.70320388, 12.62534603,  7.50804909,\n",
       "       10.47829424,  9.15553473, 10.69361684, 10.6307632 ,  9.21922479,\n",
       "        7.09740409,  7.9742449 ,  8.12333352,  7.62689973, 12.56369889,\n",
       "        7.91877479,  8.47233553,  7.72837837, 10.25895255, 10.17312253,\n",
       "        8.2939015 , 10.48751118, 14.36006046, 11.41894845, 11.84868469,\n",
       "        8.95195871, 10.75676886, 12.83465403, 10.8861808 ,  8.40623146,\n",
       "        9.44776135, 10.87366059, 11.77327387,  6.96900251,  8.75985593,\n",
       "        9.40505085, 11.02592058, 12.00564948,  7.96099287, 10.64961018,\n",
       "       11.83576998,  9.40232116,  8.79337775,  8.50827192, 11.23708185,\n",
       "       12.36860762, 13.93209847, 11.97343031, 10.56243378,  8.09278215,\n",
       "        8.51147233,  7.6329217 ,  8.10529958,  9.54993616,  6.7399655 ,\n",
       "        9.26073563,  9.40398804, 13.49958589, 12.78221855,  9.10939594,\n",
       "       14.21769962, 10.51515444, 13.43817016, 11.07256544,  9.53095491,\n",
       "        8.4443148 ,  8.98507419,  8.69016559, 10.03182895,  7.13377734,\n",
       "        8.67337188, 10.05622786,  7.71173046, 11.8025388 ,  9.77376566,\n",
       "        9.82708561, 10.0981873 ,  9.80964915, 11.4392928 ,  8.04149368,\n",
       "       10.50181734,  7.72560299,  9.48762748,  7.10492121,  9.19392856,\n",
       "       11.50032358,  8.78057188, 13.67440849,  9.48244376,  8.50025215,\n",
       "        9.47770945, 10.53359398, 12.02961597,  9.0532367 , 12.97660092,\n",
       "       10.58086509,  9.43501399,  5.75574474,  8.26672405,  9.67005795,\n",
       "       11.77549517,  5.2794157 ,  9.43431721, 11.11524821, 11.9549464 ,\n",
       "        7.06203139,  7.18047101, 10.04812971,  9.93094868,  7.66423459,\n",
       "       11.37389949, 11.37665736,  9.86424102, 10.55076423, 10.92703698,\n",
       "       12.08585448,  9.66182399, 13.10725418,  9.43415831,  8.24419047,\n",
       "        7.14141622, 10.67339198, 11.27592403, 10.37598832,  8.90764079,\n",
       "       11.40635314,  7.69097245,  9.74399237,  8.75144389, 13.35722939,\n",
       "       10.67732081, 12.65520303,  9.771899  ,  9.36810458, 11.18616847,\n",
       "       11.94588005, 12.89367719, 12.22315566, 13.27949628, 12.44088352,\n",
       "       11.25981578, 14.53837149,  8.6617595 , 12.64297308,  5.10296553,\n",
       "        8.76957723,  8.70748509,  7.88980076,  9.69003101,  9.20943627,\n",
       "        8.39907201,  9.56920379,  8.5705638 ,  8.40455824,  8.67236157,\n",
       "        7.58428938, 10.88749553,  8.63857874,  8.34610409,  9.31088842,\n",
       "        7.55890295, 10.71323505, 13.44864448,  8.57417748,  8.76823429,\n",
       "       12.19865185,  9.50368746,  9.89026774,  9.03996013, 10.97019964,\n",
       "        7.62495006, 11.85956516, 11.81511175, 10.44154272, 11.78717922,\n",
       "        8.95207852,  9.71290746, 11.20977229,  9.44295781, 11.36506115,\n",
       "        9.08006817, 11.96901549, 10.31589486, 11.73619968,  8.15195327,\n",
       "        8.74231613, 14.05898276, 10.65959926,  8.55253809, 11.06177796,\n",
       "        5.16720576, 12.71464698, 10.5163518 ,  7.15535569, 10.54965109,\n",
       "        6.48635505, 10.04780864,  9.96415144, 12.1804289 ,  6.80059318,\n",
       "       10.61517725,  8.21117329, 13.11926226,  6.92606659, 10.91024103,\n",
       "        9.2843835 ,  8.76551842, 11.47698717,  9.46161824, 13.22755377,\n",
       "        9.74308447, 12.49709238, 10.80176217,  9.10946052,  9.66573867,\n",
       "        9.85046004, 12.79908055, 10.1796529 ,  7.98997068, 10.99959657,\n",
       "       10.88949151,  9.3217644 ,  8.73393467,  6.05769744,  8.89246718,\n",
       "        9.7308509 , 10.71922425, 13.67155964,  7.6384761 , 11.87564423,\n",
       "        7.45271966,  9.22851411, 13.64881304,  8.09068756, 10.32029456,\n",
       "       10.87136865,  4.94028326, 11.52214372,  9.88738719,  8.06242978,\n",
       "       10.54364545,  7.71863558,  8.39504986,  6.83745359, 10.35556992,\n",
       "        9.70171826, 11.04321262, 11.2295664 , 10.17129155,  8.66302501,\n",
       "        9.09676311,  9.37066471,  8.67165856, 11.2969979 , 16.86961511,\n",
       "       10.21367183,  9.91954369,  7.0191538 ,  9.56704385, 11.95071898,\n",
       "        9.98359711, 11.80977837,  6.52215246,  8.82602106,  9.51899767,\n",
       "        8.94270657, 12.7782309 , 11.14676978, 13.18121919, 10.50289247,\n",
       "       10.5595171 ,  7.69949549,  9.46602887, 10.7243626 , 11.48839236,\n",
       "        8.36842824,  8.82015663, 11.46129298, 12.27145295,  7.09658492,\n",
       "       13.30057164,  7.29674393, 13.10500437,  9.9594931 , 13.04617329,\n",
       "       13.01751934,  9.10032945,  9.90410129,  9.27149838,  9.66468767,\n",
       "       12.3048656 ,  9.58969187, 13.34870857, 11.84673245,  8.80580659,\n",
       "        8.43485086, 10.56839853,  9.44125629, 10.96647644,  6.59337609])"
      ]
     },
     "execution_count": 33,
     "metadata": {},
     "output_type": "execute_result"
    }
   ],
   "source": [
    "a=np.random.normal(10,2,500)\n",
    "a"
   ]
  },
  {
   "cell_type": "code",
   "execution_count": null,
   "metadata": {},
   "outputs": [],
   "source": []
  },
  {
   "cell_type": "markdown",
   "metadata": {},
   "source": [
    "___Application of Central Limit Theorem___  \n",
    "- generate 30 integers from a poisson distribution with lambda `5.5`. Use `np.random.poisson(lambda,size)` method\n",
    "- find mean(m)\n",
    "- repeat this process 5000 times  \n",
    "- calculate mean(mu) and std(sig) of these 5000 values \n",
    "- check the proportion of values between `mu(+/-)k*sig` for k=1,2,3\n"
   ]
  },
  {
   "cell_type": "code",
   "execution_count": 39,
   "metadata": {},
   "outputs": [
    {
     "name": "stdout",
     "output_type": "stream",
     "text": [
      "[4 6 5 3 7 5 4 5 6 7 4 7 8 2 2 8 6 4 4 5 1 1 2 6 6 7 6 4 4 5]\n",
      "The mean is 4.8\n"
     ]
    }
   ],
   "source": [
    "from numpy import mean\n",
    "G=np.random.poisson(5.5,30)\n",
    "print(G)\n",
    "print('The mean is {}'.format(mean(G)))"
   ]
  },
  {
   "cell_type": "code",
   "execution_count": 51,
   "metadata": {},
   "outputs": [
    {
     "name": "stdout",
     "output_type": "stream",
     "text": [
      "The mean of sample means is 5.51236\n",
      "The std is 0.3153136100987933\n"
     ]
    }
   ],
   "source": [
    "from numpy import std\n",
    "means=[mean(np.random.poisson(5.5,30)) for _i in range(5000)]\n",
    "stds=[std(np.random.poisson(5.5,30)) for i in range(5000)]\n",
    "print('The mean of sample means is {}'.format(mean(means)))\n",
    "print('The std is {}'.format(std(stds)))"
   ]
  },
  {
   "cell_type": "code",
   "execution_count": 61,
   "metadata": {},
   "outputs": [
    {
     "ename": "SyntaxError",
     "evalue": "invalid syntax (<ipython-input-61-fc336a380460>, line 1)",
     "output_type": "error",
     "traceback": [
      "\u001b[1;36m  File \u001b[1;32m\"<ipython-input-61-fc336a380460>\"\u001b[1;36m, line \u001b[1;32m1\u001b[0m\n\u001b[1;33m    def prop()==i/5000\u001b[0m\n\u001b[1;37m               ^\u001b[0m\n\u001b[1;31mSyntaxError\u001b[0m\u001b[1;31m:\u001b[0m invalid syntax\n"
     ]
    }
   ],
   "source": [
    "mu=means\n",
    "sig=stds\n",
    "def prop:\n",
    "    if i in mu-sig<i<mu+sig:\n",
    "        print(prop in mu-sig<i<mu+sig )\n",
    "    if i in mu-2*sig<i<mu+2*sig:\n",
    "        print(prop in  mu-2*sig<i<mu+2*sig)\n",
    "    if i in mu-3*sig<i<mu+3*sig:\n",
    "        print(prop in mu-3*sig<i<mu+3*sig)\n",
    "\n",
    "\n",
    "    "
   ]
  },
  {
   "cell_type": "markdown",
   "metadata": {
    "collapsed": true
   },
   "source": [
    "# Thank You !"
   ]
  }
 ],
 "metadata": {
  "kernelspec": {
   "display_name": "Python 3",
   "language": "python",
   "name": "python3"
  },
  "language_info": {
   "codemirror_mode": {
    "name": "ipython",
    "version": 3
   },
   "file_extension": ".py",
   "mimetype": "text/x-python",
   "name": "python",
   "nbconvert_exporter": "python",
   "pygments_lexer": "ipython3",
   "version": "3.8.5"
  }
 },
 "nbformat": 4,
 "nbformat_minor": 1
}
